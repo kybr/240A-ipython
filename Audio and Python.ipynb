{
 "cells": [
  {
   "cell_type": "code",
   "execution_count": null,
   "metadata": {
    "collapsed": false,
    "deletable": true,
    "editable": true
   },
   "outputs": [],
   "source": [
    "%pylab inline\n",
    "from __future__ import print_function\n",
    "from __future__ import division"
   ]
  },
  {
   "cell_type": "markdown",
   "metadata": {
    "deletable": true,
    "editable": true,
    "slideshow": {
     "slide_type": "slide"
    }
   },
   "source": [
    "# General audio work"
   ]
  },
  {
   "cell_type": "code",
   "execution_count": null,
   "metadata": {
    "collapsed": false,
    "deletable": true,
    "editable": true
   },
   "outputs": [],
   "source": [
    "from scipy.io import wavfile"
   ]
  },
  {
   "cell_type": "markdown",
   "metadata": {
    "deletable": true,
    "editable": true
   },
   "source": [
    "If scipy is not available, you can use the *wave* module which is part of the standard library:\n",
    "\n",
    "http://docs.python.org/2/library/wave.html\n",
    "\n",
    "However it is trickier to use as you get the bytes directly and must manually turn them into numbers."
   ]
  },
  {
   "cell_type": "markdown",
   "metadata": {
    "deletable": true,
    "editable": true
   },
   "source": [
    "    wavfile.write('outsig.wav', 44100, array(sigout, dtype=int16))\n",
    "\n",
    "    sr, sample = wavfile.read('passport.wav')"
   ]
  },
  {
   "cell_type": "markdown",
   "metadata": {
    "deletable": true,
    "editable": true
   },
   "source": [
    "Now we'll generate a bunch of files with different frequencies:"
   ]
  },
  {
   "cell_type": "code",
   "execution_count": null,
   "metadata": {
    "collapsed": false,
    "deletable": true,
    "editable": true
   },
   "outputs": [],
   "source": [
    "freqs = [440, 660, 880, 1000, 2000]\n",
    "dur = 2\n",
    "sr = 44100\n",
    "\n",
    "for freq in freqs:\n",
    "    phs = linspace(0, 2 * pi * freq * dur, sr*dur)\n",
    "    samps = sin(phs)* (2.0**15)\n",
    "    wavfile.write('result/tone-%i.wav'%freq, sr, samps.astype(int16))"
   ]
  },
  {
   "cell_type": "code",
   "execution_count": null,
   "metadata": {
    "collapsed": false,
    "deletable": true,
    "editable": true
   },
   "outputs": [],
   "source": [
    "ls"
   ]
  },
  {
   "cell_type": "code",
   "execution_count": null,
   "metadata": {
    "collapsed": false,
    "deletable": true,
    "editable": true
   },
   "outputs": [],
   "source": [
    "ls result"
   ]
  },
  {
   "cell_type": "code",
   "execution_count": null,
   "metadata": {
    "collapsed": false,
    "deletable": true,
    "editable": true
   },
   "outputs": [],
   "source": [
    "sr, sample = wavfile.read('result/tone-440.wav')\n",
    "plot(sample[0:200])"
   ]
  },
  {
   "cell_type": "code",
   "execution_count": null,
   "metadata": {
    "collapsed": false,
    "deletable": true,
    "editable": true
   },
   "outputs": [],
   "source": [
    "!afplay result/tone-440.wav"
   ]
  },
  {
   "cell_type": "markdown",
   "metadata": {
    "deletable": true,
    "editable": true
   },
   "source": [
    "## Interleaving/De-interleaving"
   ]
  },
  {
   "cell_type": "code",
   "execution_count": null,
   "metadata": {
    "collapsed": false,
    "deletable": true,
    "editable": true
   },
   "outputs": [],
   "source": [
    "dur = 2\n",
    "sr = 44100\n",
    "\n",
    "phs1 = linspace(0, 2 * pi * 440 * dur, sr*dur)\n",
    "samps1 = sin(phs1)* (2.0**15)\n",
    "phs2 = linspace(0, 2 * pi * 660 * dur, sr*dur)\n",
    "samps2 = sin(phs2)* (2.0**15)\n",
    "\n",
    "wavfile.write('result/tone_stereo.wav', sr, array((samps1, samps2)).T.astype(int16) )"
   ]
  },
  {
   "cell_type": "code",
   "execution_count": null,
   "metadata": {
    "collapsed": false,
    "deletable": true,
    "editable": true
   },
   "outputs": [],
   "source": [
    "!afplay tone_stereo.wav"
   ]
  },
  {
   "cell_type": "code",
   "execution_count": null,
   "metadata": {
    "collapsed": false,
    "deletable": true,
    "editable": true
   },
   "outputs": [],
   "source": [
    "sr, samples = wavfile.read('result/tone_stereo.wav')\n",
    "samples.shape"
   ]
  },
  {
   "cell_type": "code",
   "execution_count": null,
   "metadata": {
    "collapsed": false,
    "deletable": true,
    "editable": true
   },
   "outputs": [],
   "source": [
    "interleaved = samples.flat"
   ]
  },
  {
   "cell_type": "code",
   "execution_count": null,
   "metadata": {
    "collapsed": false,
    "deletable": true,
    "editable": true
   },
   "outputs": [],
   "source": [
    "len(interleaved)"
   ]
  },
  {
   "cell_type": "code",
   "execution_count": null,
   "metadata": {
    "collapsed": false,
    "deletable": true,
    "editable": true
   },
   "outputs": [],
   "source": [
    "nchnls = 2\n",
    "sampindex = 20\n",
    "print(samples[sampindex,:])\n",
    "print(interleaved[nchnls * sampindex], interleaved[nchnls * sampindex + 1])"
   ]
  },
  {
   "cell_type": "code",
   "execution_count": null,
   "metadata": {
    "collapsed": false,
    "deletable": true,
    "editable": true
   },
   "outputs": [],
   "source": [
    "chan1 = interleaved[::2]"
   ]
  },
  {
   "cell_type": "code",
   "execution_count": null,
   "metadata": {
    "collapsed": false,
    "deletable": true,
    "editable": true
   },
   "outputs": [],
   "source": [
    "chan1.shape"
   ]
  },
  {
   "cell_type": "code",
   "execution_count": null,
   "metadata": {
    "collapsed": false,
    "deletable": true,
    "editable": true
   },
   "outputs": [],
   "source": [
    "chan2 = interleaved[1::2]"
   ]
  },
  {
   "cell_type": "markdown",
   "metadata": {
    "deletable": true,
    "editable": true
   },
   "source": [
    "## Scripting"
   ]
  },
  {
   "cell_type": "markdown",
   "metadata": {
    "deletable": true,
    "editable": true
   },
   "source": [
    "Perform actions on a large number of files.\n",
    "\n",
    "For example add a fadeout to all files in a directory:"
   ]
  },
  {
   "cell_type": "code",
   "execution_count": null,
   "metadata": {
    "collapsed": false,
    "deletable": true,
    "editable": true
   },
   "outputs": [],
   "source": [
    "import glob"
   ]
  },
  {
   "cell_type": "code",
   "execution_count": null,
   "metadata": {
    "collapsed": false,
    "deletable": true,
    "editable": true
   },
   "outputs": [],
   "source": [
    "glob.glob('result/*.wav')"
   ]
  },
  {
   "cell_type": "code",
   "execution_count": null,
   "metadata": {
    "collapsed": false,
    "deletable": true,
    "editable": true
   },
   "outputs": [],
   "source": [
    "glob.glob('result/tone-*.wav')"
   ]
  },
  {
   "cell_type": "code",
   "execution_count": null,
   "metadata": {
    "collapsed": false,
    "deletable": true,
    "editable": true
   },
   "outputs": [],
   "source": [
    "files = glob.glob('result/tone-*.wav')\n",
    "\n",
    "for f in files:\n",
    "    sr, samples = wavfile.read(f)\n",
    "    samples = samples.astype(float)\n",
    "    fade = linspace(1.0, 0, sr/2.0)\n",
    "    samples[int(-sr/2):] *= fade\n",
    "    wavfile.write(f.replace('.wav', '_fade.wav'), sr, samples.astype(int16))\n"
   ]
  },
  {
   "cell_type": "code",
   "execution_count": null,
   "metadata": {
    "collapsed": false,
    "deletable": true,
    "editable": true
   },
   "outputs": [],
   "source": [
    "type(samples)"
   ]
  },
  {
   "cell_type": "code",
   "execution_count": null,
   "metadata": {
    "collapsed": false,
    "deletable": true,
    "editable": true
   },
   "outputs": [],
   "source": [
    "sr, samples = wavfile.read('result/tone-440_fade.wav')\n",
    "plot(samples)"
   ]
  },
  {
   "cell_type": "code",
   "execution_count": null,
   "metadata": {
    "collapsed": false,
    "deletable": true,
    "editable": true
   },
   "outputs": [],
   "source": [
    "!afplay result/tone-440_fade.wav"
   ]
  },
  {
   "cell_type": "markdown",
   "metadata": {
    "deletable": true,
    "editable": true
   },
   "source": [
    "Or on meta-data, using libraries like:\n",
    "* https://code.google.com/p/mutagen/\n",
    "* http://audiotools.sourceforge.net/"
   ]
  },
  {
   "cell_type": "code",
   "execution_count": null,
   "metadata": {
    "collapsed": false,
    "deletable": true,
    "editable": true
   },
   "outputs": [],
   "source": [
    "from mutagen.easyid3 import EasyID3\n",
    "audio = EasyID3(\"media/SoundHelix-Song-3.mp3\")\n",
    "audio[\"title\"] = u\"An example\"\n",
    "audio.save()"
   ]
  },
  {
   "cell_type": "markdown",
   "metadata": {
    "deletable": true,
    "editable": true
   },
   "source": [
    "Why didn't this work? Try `pip3 install mutagen` on the terminal, then try the cell again."
   ]
  },
  {
   "cell_type": "code",
   "execution_count": null,
   "metadata": {
    "collapsed": false,
    "deletable": true,
    "editable": true
   },
   "outputs": [],
   "source": [
    "from mutagen.id3 import ID3, TIT2\n",
    "audio = ID3(\"media/SoundHelix-Song-3.mp3\")\n",
    "audio.add(TIT2(encoding=3, text=u\"An example\"))\n",
    "audio.save()"
   ]
  },
  {
   "cell_type": "markdown",
   "metadata": {
    "deletable": true,
    "editable": true,
    "slideshow": {
     "slide_type": "slide"
    }
   },
   "source": [
    "# Score/MIDI/Code generation"
   ]
  },
  {
   "cell_type": "markdown",
   "metadata": {
    "deletable": true,
    "editable": true
   },
   "source": [
    "You can generate code or MIDI using python to drive other music production systems.\n",
    "\n",
    "Generating text scores for languages like Csound is simple in Python thanks to it's string processing capabilities."
   ]
  },
  {
   "cell_type": "code",
   "execution_count": null,
   "metadata": {
    "collapsed": false,
    "deletable": true,
    "editable": true
   },
   "outputs": [],
   "source": [
    "# Csound score\n",
    "\n",
    "score = ''\n",
    "time = 0\n",
    "dur = 0.5\n",
    "\n",
    "import random\n",
    "\n",
    "for i in range(10):\n",
    "    freq = 440 + random.random() * 440 \n",
    "    score += \"i 1 %f %f %f\\n\"%(time, dur, freq)\n",
    "    time += dur"
   ]
  },
  {
   "cell_type": "code",
   "execution_count": null,
   "metadata": {
    "collapsed": false,
    "deletable": true,
    "editable": true
   },
   "outputs": [],
   "source": [
    "print(score)"
   ]
  },
  {
   "cell_type": "markdown",
   "metadata": {
    "deletable": true,
    "editable": true
   },
   "source": [
    "A simple library for working with MIDI files:\n",
    "* https://code.google.com/p/midiutil/"
   ]
  },
  {
   "cell_type": "code",
   "execution_count": null,
   "metadata": {
    "collapsed": false,
    "deletable": true,
    "editable": true
   },
   "outputs": [],
   "source": [
    "from midiutil.MidiFile import MIDIFile\n",
    "# Create the MIDIFile Object with 1 track\n",
    "MyMIDI = MIDIFile(1)\n",
    "\n",
    "# Tracks are numbered from zero. Times are measured in beats.\n",
    "\n",
    "track = 0   \n",
    "time = 0\n",
    "\n",
    "# Add track name and tempo.\n",
    "MyMIDI.addTrackName(track,time,\"Sample Track\")\n",
    "MyMIDI.addTempo(track,time,120)\n",
    "\n",
    "# Add a note. addNote expects the following information:\n",
    "track = 0\n",
    "channel = 0\n",
    "pitch = 62\n",
    "time = 0\n",
    "duration = 1\n",
    "volume = 100\n",
    "\n",
    "# Now add the note.\n",
    "MyMIDI.addNote(track,channel,pitch,time,duration,volume)\n",
    "\n",
    "# And write it to disk.\n",
    "binfile = open(\"result/output.mid\", 'wb')\n",
    "MyMIDI.writeFile(binfile)\n",
    "binfile.close()"
   ]
  },
  {
   "cell_type": "markdown",
   "metadata": {
    "deletable": true,
    "editable": true
   },
   "source": [
    "What should we do about this error? (Hint: we fixed something like this before.)"
   ]
  },
  {
   "cell_type": "code",
   "execution_count": null,
   "metadata": {
    "collapsed": false,
    "deletable": true,
    "editable": true
   },
   "outputs": [],
   "source": [
    "!/usr/local/bin/fluidsynth -i media/gugs1.471.sf2 result/output.mid"
   ]
  },
  {
   "cell_type": "markdown",
   "metadata": {
    "deletable": true,
    "editable": true
   },
   "source": [
    "Now generate a sequence of notes:"
   ]
  },
  {
   "cell_type": "code",
   "execution_count": null,
   "metadata": {
    "collapsed": false,
    "deletable": true,
    "editable": true
   },
   "outputs": [],
   "source": [
    "from midiutil.MidiFile import MIDIFile\n",
    "# Create the MIDIFile Object with 1 track\n",
    "MyMIDI = MIDIFile(1)\n",
    "\n",
    "track = 0   \n",
    "time = 0\n",
    "\n",
    "MyMIDI.addTrackName(track,time,\"Sample Track\")\n",
    "MyMIDI.addTempo(track,time,120)\n",
    "\n",
    "# Add a note. addNote expects the following information:\n",
    "track = 0\n",
    "channel = 0\n",
    "pitch = 62\n",
    "time = 0\n",
    "duration = 1\n",
    "volume = 100\n",
    "\n",
    "for i in range(10):\n",
    "    pitch = 48 + int(random.random() * 24)\n",
    "    time += duration\n",
    "    MyMIDI.addNote(track,channel,pitch,time,duration,volume)\n",
    "\n",
    "# And write it to disk.\n",
    "binfile = open(\"result/output_random.mid\", 'wb')\n",
    "MyMIDI.writeFile(binfile)\n",
    "binfile.close()\n"
   ]
  },
  {
   "cell_type": "code",
   "execution_count": null,
   "metadata": {
    "collapsed": false,
    "deletable": true,
    "editable": true
   },
   "outputs": [],
   "source": [
    "!/usr/local/bin/fluidsynth -i media/gugs1.471.sf2 result/output_random.mid"
   ]
  },
  {
   "cell_type": "markdown",
   "metadata": {
    "deletable": true,
    "editable": true,
    "slideshow": {
     "slide_type": "slide"
    }
   },
   "source": [
    "# Digital Signal Processing and Acoustics"
   ]
  },
  {
   "cell_type": "markdown",
   "metadata": {
    "deletable": true,
    "editable": true
   },
   "source": [
    "Python can be useful as a prototyping tool for DSP and acoustics algorithms."
   ]
  },
  {
   "cell_type": "code",
   "execution_count": null,
   "metadata": {
    "collapsed": false,
    "deletable": true,
    "editable": true
   },
   "outputs": [],
   "source": [
    "from numpy import random"
   ]
  },
  {
   "cell_type": "code",
   "execution_count": null,
   "metadata": {
    "collapsed": false,
    "deletable": true,
    "editable": true
   },
   "outputs": [],
   "source": [
    "sig = random.random(2048)*2 -1"
   ]
  },
  {
   "cell_type": "code",
   "execution_count": null,
   "metadata": {
    "collapsed": false,
    "deletable": true,
    "editable": true
   },
   "outputs": [],
   "source": [
    "Pxx, freqs, times, im = specgram(sig, Fs=44100);\n",
    "colorbar()\n",
    "gcf().set_figwidth(16)"
   ]
  },
  {
   "cell_type": "code",
   "execution_count": null,
   "metadata": {
    "collapsed": false,
    "deletable": true,
    "editable": true
   },
   "outputs": [],
   "source": [
    "times"
   ]
  },
  {
   "cell_type": "code",
   "execution_count": null,
   "metadata": {
    "collapsed": false,
    "deletable": true,
    "editable": true
   },
   "outputs": [],
   "source": [
    "Pxx.shape"
   ]
  },
  {
   "cell_type": "code",
   "execution_count": null,
   "metadata": {
    "collapsed": false,
    "deletable": true,
    "editable": true
   },
   "outputs": [],
   "source": [
    "plot(Pxx[:,10])"
   ]
  },
  {
   "cell_type": "code",
   "execution_count": null,
   "metadata": {
    "collapsed": false,
    "deletable": true,
    "editable": true
   },
   "outputs": [],
   "source": [
    "filtered = (sig + r_[0,sig[:-1]])\n",
    "Pxx2, freqs, times, im = specgram(filtered, Fs=44100);\n",
    "colorbar()"
   ]
  },
  {
   "cell_type": "code",
   "execution_count": null,
   "metadata": {
    "collapsed": false,
    "deletable": true,
    "editable": true
   },
   "outputs": [],
   "source": [
    "plot(Pxx2[:,10])"
   ]
  },
  {
   "cell_type": "code",
   "execution_count": null,
   "metadata": {
    "collapsed": false,
    "deletable": true,
    "editable": true
   },
   "outputs": [],
   "source": [
    "plot(Pxx[:,10])\n",
    "plot(Pxx2[:,10])"
   ]
  },
  {
   "cell_type": "code",
   "execution_count": null,
   "metadata": {
    "collapsed": false,
    "deletable": true,
    "editable": true
   },
   "outputs": [],
   "source": [
    "plot(Pxx[:,10])\n",
    "plot(Pxx2[:,10]/4.0)"
   ]
  },
  {
   "cell_type": "markdown",
   "metadata": {
    "deletable": true,
    "editable": true
   },
   "source": [
    "http://docs.scipy.org/doc/scipy/reference/signal.html"
   ]
  },
  {
   "cell_type": "code",
   "execution_count": null,
   "metadata": {
    "collapsed": false,
    "deletable": true,
    "editable": true
   },
   "outputs": [],
   "source": [
    "from scipy.signal import lfilter\n",
    "filtered4 = lfilter([1],[1, 1], sig)\n",
    "specgram(filtered4, Fs=44100);"
   ]
  },
  {
   "cell_type": "markdown",
   "metadata": {
    "deletable": true,
    "editable": true
   },
   "source": [
    "##Biquad filters\n",
    "\n",
    "$$H(z) = \\frac{b_0z^{0} + b_1z^{-1} +  b_2z^{-2}}{ a_0z^{0} + a_1z^{-1} + a_2z^{-2}}$$\n",
    "\n",
    "Great \"cookbook\":\n",
    "[http://www.musicdsp.org/files/Audio-EQ-Cookbook.txt](http://www.musicdsp.org/files/Audio-EQ-Cookbook.txt)"
   ]
  },
  {
   "cell_type": "code",
   "execution_count": null,
   "metadata": {
    "collapsed": false,
    "deletable": true,
    "editable": true
   },
   "outputs": [],
   "source": [
    "# low shelf-filter\n",
    "\n",
    "Fs = 44100\n",
    "f0 = 10000.0\n",
    "dBgain = 30.0\n",
    "S = 1.0 # shelf slope\n",
    "# -----------------------\n",
    "A  = 10**(dBgain/40)\n",
    "\n",
    "w0 = 2*pi*f0/Fs\n",
    "alpha = sin(w0)/2 * sqrt( (A + 1/A)*(1/S - 1) + 2 ) \n",
    "       \n",
    "b0 =    A*( (A+1) - (A-1)*cos(w0) + 2*sqrt(A)*alpha )\n",
    "b1 =  2*A*( (A-1) - (A+1)*cos(w0)                   )\n",
    "b2 =    A*( (A+1) - (A-1)*cos(w0) - 2*sqrt(A)*alpha )\n",
    "a0 =        (A+1) + (A-1)*cos(w0) + 2*sqrt(A)*alpha\n",
    "a1 =   -2*( (A-1) + (A+1)*cos(w0)                   )\n",
    "a2 =        (A+1) + (A-1)*cos(w0) - 2*sqrt(A)*alpha"
   ]
  },
  {
   "cell_type": "code",
   "execution_count": null,
   "metadata": {
    "collapsed": false,
    "deletable": true,
    "editable": true
   },
   "outputs": [],
   "source": [
    "from scipy.signal import freqz\n",
    "w, h = freqz([b0, b1, b2], [a0, a1, a2])\n",
    "semilogy(w,abs(h))"
   ]
  },
  {
   "cell_type": "code",
   "execution_count": null,
   "metadata": {
    "collapsed": false,
    "deletable": true,
    "editable": true
   },
   "outputs": [],
   "source": [
    "from scipy.signal import iirdesign"
   ]
  },
  {
   "cell_type": "code",
   "execution_count": null,
   "metadata": {
    "collapsed": false,
    "deletable": true,
    "editable": true
   },
   "outputs": [],
   "source": [
    "Wp = 0.5  # Cutoff frequency \n",
    "Ws = 0.6   # Stop frequency \n",
    "Rp = 0.1     # passband maximum loss (gpass)\n",
    "As = 60      # stoppand min attenuation (gstop)\n",
    "b,a = iirdesign(Wp, Ws, Rp, As, ftype='butter')\n",
    "frq, resp = freqz(b,a)\n",
    "plot(frq, abs(resp))\n",
    "twinx()\n",
    "plot(frq, angle(resp), 'r')\n",
    "\n",
    "title('Butterworth filter')\n",
    "grid()"
   ]
  },
  {
   "cell_type": "markdown",
   "metadata": {
    "deletable": true,
    "editable": true
   },
   "source": [
    "More details and examples:\n",
    "* http://nbviewer.ipython.org/github/mantaraya36/201A-ipython/blob/master/Audio%20Filters.ipynb"
   ]
  },
  {
   "cell_type": "markdown",
   "metadata": {
    "deletable": true,
    "editable": true
   },
   "source": [
    "# Sonification/Simulation/Big Data"
   ]
  },
  {
   "cell_type": "code",
   "execution_count": null,
   "metadata": {
    "collapsed": false,
    "deletable": true,
    "editable": true
   },
   "outputs": [],
   "source": [
    "from sklearn import datasets\n",
    "\n",
    "iris = datasets.load_iris()\n",
    "index_0 = (iris.data[:,0] - iris.data[:,0].min())/ptp(iris.data[:,0])\n",
    "index_1 = (iris.data[:,1] - iris.data[:,1].min())/ptp(iris.data[:,1])\n",
    "space = zeros((512,512))\n",
    "\n",
    "space[50 + (index_0*450).astype(int),50 + (index_1*450).astype(int)] += 1\n",
    "\n",
    "imshow(space, cmap='gray', aspect='auto')\n",
    "gcf().set_figheight(12)\n",
    "gcf().set_figwidth(12)"
   ]
  },
  {
   "cell_type": "markdown",
   "metadata": {
    "deletable": true,
    "editable": true
   },
   "source": [
    "You know what to do now, right?"
   ]
  },
  {
   "cell_type": "code",
   "execution_count": null,
   "metadata": {
    "collapsed": false,
    "deletable": true,
    "editable": true
   },
   "outputs": [],
   "source": [
    "from scipy.ndimage.filters import gaussian_filter\n",
    "gspace = gaussian_filter(space, 7)\n",
    "imshow(gspace)\n",
    "\n",
    "gcf().set_figheight(9)\n",
    "gcf().set_figwidth(9)"
   ]
  },
  {
   "cell_type": "code",
   "execution_count": null,
   "metadata": {
    "collapsed": false,
    "deletable": true,
    "editable": true
   },
   "outputs": [],
   "source": [
    "Ex,Ey = gradient(gspace)\n",
    "\n",
    "n = 35000\n",
    "dt = 1e-1\n",
    "\n",
    "r = zeros((n,2))\n",
    "v = zeros((n,2))\n",
    "a = zeros((n,2))\n",
    "\n",
    "r[0] = [200, 300]\n",
    "v[0] = [1.0, -1.0]\n",
    "\n",
    "damp = 0.9999\n",
    "\n",
    "q = 5500\n",
    "m = 0.5\n",
    "\n",
    "for i in range(n - 1):\n",
    "    E = array([Ex[int(r[i][0]), int(r[i][1])], Ey[int(r[i][0]), int(r[i][1])]])\n",
    "\n",
    "    a[i+1] = q*E/m \n",
    "    v[i+1] = damp * (v[i] + a[i+1]*dt)\n",
    "    r[i+1] = r[i] + v[i+1]*dt\n"
   ]
  },
  {
   "cell_type": "code",
   "execution_count": null,
   "metadata": {
    "collapsed": false,
    "deletable": true,
    "editable": true
   },
   "outputs": [],
   "source": [
    "figure(figsize=(12,10))\n",
    "imshow(gspace.T)\n",
    "#quiver(Ex[::],Ey[::])\n",
    "plot(*r.T, lw=3, c= 'w')\n",
    "xlim((0, 512))\n",
    "ylim((0, 512))"
   ]
  },
  {
   "cell_type": "code",
   "execution_count": null,
   "metadata": {
    "collapsed": false,
    "deletable": true,
    "editable": true
   },
   "outputs": [],
   "source": [
    "vel = hypot(*v.T)\n",
    "plot(hypot(*v.T))"
   ]
  },
  {
   "cell_type": "code",
   "execution_count": null,
   "metadata": {
    "collapsed": false,
    "deletable": true,
    "editable": true
   },
   "outputs": [],
   "source": [
    "Ek = 0.5 * m * hypot(*v.T)**2\n",
    "plot(Ek)"
   ]
  },
  {
   "cell_type": "code",
   "execution_count": null,
   "metadata": {
    "collapsed": false,
    "deletable": true,
    "editable": true
   },
   "outputs": [],
   "source": [
    "import icsound\n",
    "ics = icsound.icsound()\n",
    "ics.start_engine()"
   ]
  },
  {
   "cell_type": "markdown",
   "metadata": {
    "deletable": true,
    "editable": true,
    "slideshow": {
     "slide_type": "slide"
    }
   },
   "source": [
    "# Music Information Retrieval"
   ]
  },
  {
   "cell_type": "markdown",
   "metadata": {
    "deletable": true,
    "editable": true
   },
   "source": [
    "Various excellent libraries are available for research related to MIR in Python:\n",
    "* http://essentia.upf.edu/\n",
    "* https://github.com/bmcfee/librosa\n",
    "* https://github.com/marsyas/marsyas\n",
    "\n",
    "Generic machine learning:\n",
    "* http://shogun-toolbox.org/page/documentation/information\n",
    "* http://scikit-learn.org/stable/"
   ]
  },
  {
   "cell_type": "markdown",
   "metadata": {
    "deletable": true,
    "editable": true
   },
   "source": [
    "http://nbviewer.ipython.org/github/mantaraya36/240E-ipython/tree/master/"
   ]
  },
  {
   "cell_type": "markdown",
   "metadata": {
    "deletable": true,
    "editable": true
   },
   "source": [
    "# Synthesis"
   ]
  },
  {
   "cell_type": "markdown",
   "metadata": {
    "deletable": true,
    "editable": true
   },
   "source": [
    "Python can be useful for prototyping synthesis techniques offline (to file), and there are synthesis libraries for Python like pyo:\n",
    "\n",
    "* https://code.google.com/p/pyo/"
   ]
  },
  {
   "cell_type": "code",
   "execution_count": null,
   "metadata": {
    "collapsed": false,
    "deletable": true,
    "editable": true
   },
   "outputs": [],
   "source": [
    "from pyo import *\n",
    "s = Server().boot()"
   ]
  },
  {
   "cell_type": "code",
   "execution_count": null,
   "metadata": {
    "collapsed": false,
    "deletable": true,
    "editable": true
   },
   "outputs": [],
   "source": [
    "a = Sine(440, 0, 0.1).out()\n",
    "s.start()"
   ]
  },
  {
   "cell_type": "code",
   "execution_count": null,
   "metadata": {
    "collapsed": false,
    "deletable": true,
    "editable": true
   },
   "outputs": [],
   "source": [
    "b = Sine(880, 0, 0.1).out()"
   ]
  },
  {
   "cell_type": "code",
   "execution_count": null,
   "metadata": {
    "collapsed": false,
    "deletable": true,
    "editable": true
   },
   "outputs": [],
   "source": [
    "s.stop()"
   ]
  },
  {
   "cell_type": "code",
   "execution_count": null,
   "metadata": {
    "collapsed": false,
    "deletable": true,
    "editable": true
   },
   "outputs": [],
   "source": [
    "s.shutdown()\n",
    "s.boot()\n",
    "b = Sine(880, 0, 0.1).out()\n",
    "s.start()"
   ]
  },
  {
   "cell_type": "code",
   "execution_count": null,
   "metadata": {
    "collapsed": false,
    "deletable": true,
    "editable": true
   },
   "outputs": [],
   "source": [
    "s.stop()"
   ]
  },
  {
   "cell_type": "markdown",
   "metadata": {
    "deletable": true,
    "editable": true
   },
   "source": [
    "For some reason, the stop() function needs to settle before the shutdown(), so put them in separate cells..."
   ]
  },
  {
   "cell_type": "code",
   "execution_count": null,
   "metadata": {
    "collapsed": false,
    "deletable": true,
    "editable": true
   },
   "outputs": [],
   "source": [
    "s.shutdown()\n",
    "s.boot()"
   ]
  },
  {
   "cell_type": "code",
   "execution_count": null,
   "metadata": {
    "collapsed": false,
    "deletable": true,
    "editable": true
   },
   "outputs": [],
   "source": [
    "s.shutdown()\n",
    "s.boot()\n",
    "s.start()\n",
    "wav = SquareTable()\n",
    "env = CosTable([(0,0), (100,1), (500,.3), (8191,0)])\n",
    "met = Metro(.250, 12).play()\n",
    "amp = TrigEnv(met, table=env, mul=.1)\n",
    "pit = TrigXnoiseMidi(met, dist='loopseg', x1=20, scale=1, mrange=(48,84))\n",
    "out = Osc(table=wav, freq=pit, mul=amp).out()"
   ]
  },
  {
   "cell_type": "code",
   "execution_count": null,
   "metadata": {
    "collapsed": false,
    "deletable": true,
    "editable": true
   },
   "outputs": [],
   "source": [
    "s.stop()"
   ]
  },
  {
   "cell_type": "code",
   "execution_count": null,
   "metadata": {
    "collapsed": false,
    "deletable": true,
    "editable": true
   },
   "outputs": [],
   "source": [
    "s.start()\n",
    "wav = SquareTable()\n",
    "env = CosTable([(0,0), (100,1), (500,.3), (8191,0)])\n",
    "met = Metro(.250, 12).play()\n",
    "amp = TrigEnv(met, table=env, mul=.1)\n",
    "pit = TrigXnoiseMidi(met, dist='loopseg', x1=20, scale=1, mrange=(48,84))\n",
    "out = Osc(table=wav, freq=pit, mul=amp).out()\n",
    "s.gui(locals())"
   ]
  },
  {
   "cell_type": "code",
   "execution_count": null,
   "metadata": {
    "collapsed": false,
    "deletable": true,
    "editable": true
   },
   "outputs": [],
   "source": [
    "%%csound\n",
    "givalue = 10"
   ]
  },
  {
   "cell_type": "code",
   "execution_count": null,
   "metadata": {
    "collapsed": false,
    "deletable": true,
    "editable": true
   },
   "outputs": [],
   "source": [
    "%%csound\n",
    "print givalue"
   ]
  },
  {
   "cell_type": "code",
   "execution_count": null,
   "metadata": {
    "collapsed": false,
    "deletable": true,
    "editable": true
   },
   "outputs": [],
   "source": [
    "ics.print_log()"
   ]
  },
  {
   "cell_type": "code",
   "execution_count": null,
   "metadata": {
    "collapsed": false,
    "deletable": true,
    "editable": true
   },
   "outputs": [],
   "source": [
    "ics.fill_table(1, Ek)"
   ]
  },
  {
   "cell_type": "code",
   "execution_count": null,
   "metadata": {
    "collapsed": false,
    "deletable": true,
    "editable": true
   },
   "outputs": [],
   "source": [
    "%%csound\n",
    "chn_k \"freq\", 1\n",
    "\n",
    "instr 1\n",
    "\n",
    "kfreq chnget \"freq\"\n",
    "asig poscil 1/45, kfreq, 1\n",
    "\n",
    "outs asig, asig\n",
    "\n",
    "endin"
   ]
  },
  {
   "cell_type": "code",
   "execution_count": null,
   "metadata": {
    "collapsed": false,
    "deletable": true,
    "editable": true
   },
   "outputs": [],
   "source": [
    "ics.send_score(\"i 1 0 -1\")"
   ]
  },
  {
   "cell_type": "code",
   "execution_count": null,
   "metadata": {
    "collapsed": false,
    "deletable": true,
    "editable": true
   },
   "outputs": [],
   "source": [
    "ics.set_channel(\"freq\", 1.0)"
   ]
  },
  {
   "cell_type": "code",
   "execution_count": null,
   "metadata": {
    "collapsed": false,
    "deletable": true,
    "editable": true
   },
   "outputs": [],
   "source": [
    "ics.set_channel(\"freq\", 0.5)"
   ]
  },
  {
   "cell_type": "code",
   "execution_count": null,
   "metadata": {
    "collapsed": false,
    "deletable": true,
    "editable": true
   },
   "outputs": [],
   "source": [
    "ics.start_record(\"one_particle.wav\")"
   ]
  },
  {
   "cell_type": "code",
   "execution_count": null,
   "metadata": {
    "collapsed": false,
    "deletable": true,
    "editable": true
   },
   "outputs": [],
   "source": [
    "ics.stop_record()"
   ]
  },
  {
   "cell_type": "code",
   "execution_count": null,
   "metadata": {
    "collapsed": false,
    "deletable": true,
    "editable": true
   },
   "outputs": [],
   "source": [
    "ics.send_score(\"i -1 0 -1\")"
   ]
  },
  {
   "cell_type": "code",
   "execution_count": null,
   "metadata": {
    "collapsed": false,
    "deletable": true,
    "editable": true
   },
   "outputs": [],
   "source": [
    "!aplay one_particle.wav"
   ]
  },
  {
   "cell_type": "markdown",
   "metadata": {
    "deletable": true,
    "editable": true
   },
   "source": [
    "# By Andrés Cabrera mantaraya36@gmail.com\n",
    "\n",
    "For course MAT 240A at UCSB\n",
    "\n",
    "This ipython notebook is licensed under the CC-BY-NC-SA license: http://creativecommons.org/licenses/by-nc-sa/4.0/\n",
    "\n",
    "![http://i.creativecommons.org/l/by-nc-sa/3.0/88x31.png](http://i.creativecommons.org/l/by-nc-sa/3.0/88x31.png)"
   ]
  }
 ],
 "metadata": {
  "kernelspec": {
   "display_name": "Python 3",
   "language": "python",
   "name": "python3"
  },
  "language_info": {
   "codemirror_mode": {
    "name": "ipython",
    "version": 3
   },
   "file_extension": ".py",
   "mimetype": "text/x-python",
   "name": "python",
   "nbconvert_exporter": "python",
   "pygments_lexer": "ipython3",
   "version": "3.6.1"
  }
 },
 "nbformat": 4,
 "nbformat_minor": 0
}
