{
 "metadata": {
  "name": ""
 },
 "nbformat": 3,
 "nbformat_minor": 0,
 "worksheets": [
  {
   "cells": [
    {
     "cell_type": "heading",
     "level": 1,
     "metadata": {
      "slideshow": {
       "slide_type": "slide"
      }
     },
     "source": [
      "General audio work"
     ]
    },
    {
     "cell_type": "code",
     "collapsed": false,
     "input": [
      "from scipy.io import wavfile"
     ],
     "language": "python",
     "metadata": {},
     "outputs": [],
     "prompt_number": 1
    },
    {
     "cell_type": "markdown",
     "metadata": {},
     "source": [
      "If scipy is not available, you can use the *wave* module which is part of the standard library:\n",
      "\n",
      "http://docs.python.org/2/library/wave.html\n",
      "\n",
      "However it is trickier to use as you get the bytes directly and must manually turn them into numbers."
     ]
    },
    {
     "cell_type": "code",
     "collapsed": false,
     "input": [
      "wavfile.write('outsig.wav', 44100, array(sigout, dtype=int16))\n",
      "\n",
      "sr, sample = wavfile.read('passport.wav')"
     ],
     "language": "python",
     "metadata": {},
     "outputs": []
    },
    {
     "cell_type": "markdown",
     "metadata": {},
     "source": []
    },
    {
     "cell_type": "code",
     "collapsed": false,
     "input": [],
     "language": "python",
     "metadata": {},
     "outputs": []
    },
    {
     "cell_type": "code",
     "collapsed": false,
     "input": [],
     "language": "python",
     "metadata": {},
     "outputs": []
    },
    {
     "cell_type": "code",
     "collapsed": false,
     "input": [],
     "language": "python",
     "metadata": {},
     "outputs": []
    },
    {
     "cell_type": "code",
     "collapsed": false,
     "input": [],
     "language": "python",
     "metadata": {},
     "outputs": []
    },
    {
     "cell_type": "heading",
     "level": 2,
     "metadata": {},
     "source": [
      "Interleaving/De-interleaving"
     ]
    },
    {
     "cell_type": "code",
     "collapsed": false,
     "input": [],
     "language": "python",
     "metadata": {},
     "outputs": []
    },
    {
     "cell_type": "code",
     "collapsed": false,
     "input": [],
     "language": "python",
     "metadata": {},
     "outputs": []
    },
    {
     "cell_type": "code",
     "collapsed": false,
     "input": [],
     "language": "python",
     "metadata": {},
     "outputs": []
    },
    {
     "cell_type": "heading",
     "level": 2,
     "metadata": {},
     "source": [
      "Scripting"
     ]
    },
    {
     "cell_type": "markdown",
     "metadata": {},
     "source": [
      "Perform actions on a large number of files.\n",
      "\n",
      "For example add a fadeout to all files in a directory:"
     ]
    },
    {
     "cell_type": "code",
     "collapsed": false,
     "input": [
      "import glob"
     ],
     "language": "python",
     "metadata": {},
     "outputs": [],
     "prompt_number": 9
    },
    {
     "cell_type": "code",
     "collapsed": false,
     "input": [],
     "language": "python",
     "metadata": {},
     "outputs": []
    },
    {
     "cell_type": "code",
     "collapsed": false,
     "input": [],
     "language": "python",
     "metadata": {},
     "outputs": []
    },
    {
     "cell_type": "code",
     "collapsed": false,
     "input": [],
     "language": "python",
     "metadata": {},
     "outputs": []
    },
    {
     "cell_type": "markdown",
     "metadata": {},
     "source": [
      "Or on meta-data, using libraries like:\n",
      "* https://code.google.com/p/mutagen/\n",
      "* http://audiotools.sourceforge.net/"
     ]
    },
    {
     "cell_type": "code",
     "collapsed": false,
     "input": [
      "from mutagen.easyid3 import EasyID3\n",
      "audio = EasyID3(\"example.mp3\")\n",
      "audio[\"title\"] = u\"An example\"\n",
      "audio.save()"
     ],
     "language": "python",
     "metadata": {},
     "outputs": []
    },
    {
     "cell_type": "code",
     "collapsed": false,
     "input": [
      "from mutagen.id3 import ID3, TIT2\n",
      "audio = ID3(\"example.mp3\")\n",
      "audio.add(TIT2(encoding=3, text=u\"An example\"))\n",
      "audio.save()"
     ],
     "language": "python",
     "metadata": {},
     "outputs": []
    },
    {
     "cell_type": "heading",
     "level": 1,
     "metadata": {
      "slideshow": {
       "slide_type": "slide"
      }
     },
     "source": [
      "Score/MIDI/Code generation"
     ]
    },
    {
     "cell_type": "markdown",
     "metadata": {},
     "source": [
      "You can generate code or MIDI using python to drive other music production systems.\n",
      "\n",
      "Generating text scores for languages like Csound is simple in Python thanks to it's string processing capabilities."
     ]
    },
    {
     "cell_type": "code",
     "collapsed": false,
     "input": [
      "# Csound score\n",
      "\n",
      "score = ''\n",
      "time = 0\n",
      "dur = 0.5\n",
      "\n",
      "import random\n",
      "\n",
      "for i in range(10):\n",
      "    freq = 440 + random.random() * 440 \n",
      "    score += \"i 1 %f %f %f\\n\"%(time, dur, freq)"
     ],
     "language": "python",
     "metadata": {},
     "outputs": [],
     "prompt_number": 20
    },
    {
     "cell_type": "code",
     "collapsed": false,
     "input": [
      "print score"
     ],
     "language": "python",
     "metadata": {},
     "outputs": [
      {
       "output_type": "stream",
       "stream": "stdout",
       "text": [
        "i 1 0.000000 0.500000 847.080400\n",
        "i 1 0.000000 0.500000 760.383199\n",
        "i 1 0.000000 0.500000 561.151771\n",
        "i 1 0.000000 0.500000 460.617603\n",
        "i 1 0.000000 0.500000 875.576500\n",
        "i 1 0.000000 0.500000 775.780625\n",
        "i 1 0.000000 0.500000 693.012382\n",
        "i 1 0.000000 0.500000 643.315275\n",
        "i 1 0.000000 0.500000 698.315254\n",
        "i 1 0.000000 0.500000 705.612503\n",
        "\n"
       ]
      }
     ],
     "prompt_number": 21
    },
    {
     "cell_type": "markdown",
     "metadata": {},
     "source": [
      "A simple library for working with MIDI files:\n",
      "* https://code.google.com/p/midiutil/"
     ]
    },
    {
     "cell_type": "code",
     "collapsed": false,
     "input": [
      "from midiutil.MidiFile import MIDIFile\n",
      "# Create the MIDIFile Object with 1 track\n",
      "MyMIDI = MIDIFile(1)\n",
      "\n",
      "# Tracks are numbered from zero. Times are measured in beats.\n",
      "\n",
      "track = 0   \n",
      "time = 0\n",
      "\n",
      "# Add track name and tempo.\n",
      "MyMIDI.addTrackName(track,time,\"Sample Track\")\n",
      "MyMIDI.addTempo(track,time,120)\n",
      "\n",
      "# Add a note. addNote expects the following information:\n",
      "track = 0\n",
      "channel = 0\n",
      "pitch = 60\n",
      "time = 0\n",
      "duration = 1\n",
      "volume = 100\n",
      "\n",
      "# Now add the note.\n",
      "MyMIDI.addNote(track,channel,pitch,time,duration,volume)\n",
      "\n",
      "# And write it to disk.\n",
      "binfile = open(\"output.mid\", 'wb')\n",
      "MyMIDI.writeFile(binfile)\n",
      "binfile.close()"
     ],
     "language": "python",
     "metadata": {},
     "outputs": [],
     "prompt_number": 10
    },
    {
     "cell_type": "code",
     "collapsed": false,
     "input": [],
     "language": "python",
     "metadata": {},
     "outputs": []
    },
    {
     "cell_type": "code",
     "collapsed": false,
     "input": [],
     "language": "python",
     "metadata": {},
     "outputs": []
    },
    {
     "cell_type": "code",
     "collapsed": false,
     "input": [],
     "language": "python",
     "metadata": {},
     "outputs": []
    },
    {
     "cell_type": "heading",
     "level": 1,
     "metadata": {
      "slideshow": {
       "slide_type": "slide"
      }
     },
     "source": [
      "Digital Signal Processing and Acoustics"
     ]
    },
    {
     "cell_type": "markdown",
     "metadata": {},
     "source": [
      "Python can be useful as a prototyping tool for DSP and acoustics algorithms."
     ]
    },
    {
     "cell_type": "markdown",
     "metadata": {},
     "source": [
      "Filtering and FFT."
     ]
    },
    {
     "cell_type": "code",
     "collapsed": false,
     "input": [],
     "language": "python",
     "metadata": {},
     "outputs": []
    },
    {
     "cell_type": "code",
     "collapsed": false,
     "input": [],
     "language": "python",
     "metadata": {},
     "outputs": []
    },
    {
     "cell_type": "code",
     "collapsed": false,
     "input": [],
     "language": "python",
     "metadata": {},
     "outputs": []
    },
    {
     "cell_type": "code",
     "collapsed": false,
     "input": [],
     "language": "python",
     "metadata": {},
     "outputs": []
    },
    {
     "cell_type": "code",
     "collapsed": false,
     "input": [],
     "language": "python",
     "metadata": {},
     "outputs": []
    },
    {
     "cell_type": "code",
     "collapsed": false,
     "input": [],
     "language": "python",
     "metadata": {},
     "outputs": []
    },
    {
     "cell_type": "code",
     "collapsed": false,
     "input": [],
     "language": "python",
     "metadata": {},
     "outputs": []
    },
    {
     "cell_type": "heading",
     "level": 1,
     "metadata": {},
     "source": [
      "Sonification/Simulation/Big Data"
     ]
    },
    {
     "cell_type": "code",
     "collapsed": false,
     "input": [],
     "language": "python",
     "metadata": {},
     "outputs": []
    },
    {
     "cell_type": "code",
     "collapsed": false,
     "input": [],
     "language": "python",
     "metadata": {},
     "outputs": []
    },
    {
     "cell_type": "code",
     "collapsed": false,
     "input": [],
     "language": "python",
     "metadata": {},
     "outputs": []
    },
    {
     "cell_type": "code",
     "collapsed": false,
     "input": [],
     "language": "python",
     "metadata": {},
     "outputs": []
    },
    {
     "cell_type": "code",
     "collapsed": false,
     "input": [],
     "language": "python",
     "metadata": {},
     "outputs": []
    },
    {
     "cell_type": "heading",
     "level": 1,
     "metadata": {
      "slideshow": {
       "slide_type": "slide"
      }
     },
     "source": [
      "Music Information Retrieval"
     ]
    },
    {
     "cell_type": "code",
     "collapsed": false,
     "input": [],
     "language": "python",
     "metadata": {},
     "outputs": []
    },
    {
     "cell_type": "code",
     "collapsed": false,
     "input": [],
     "language": "python",
     "metadata": {},
     "outputs": []
    },
    {
     "cell_type": "code",
     "collapsed": false,
     "input": [],
     "language": "python",
     "metadata": {},
     "outputs": []
    },
    {
     "cell_type": "code",
     "collapsed": false,
     "input": [],
     "language": "python",
     "metadata": {},
     "outputs": []
    },
    {
     "cell_type": "heading",
     "level": 1,
     "metadata": {},
     "source": [
      "Synthesis"
     ]
    },
    {
     "cell_type": "markdown",
     "metadata": {},
     "source": [
      "Python can be useful for prototyping synthesis techniques offline (to file), and there are synthesis libraries for Python like pyo:\n",
      "\n",
      "* https://code.google.com/p/pyo/"
     ]
    },
    {
     "cell_type": "code",
     "collapsed": false,
     "input": [
      "from pyo import *\n",
      "s = Server().boot()"
     ],
     "language": "python",
     "metadata": {},
     "outputs": [],
     "prompt_number": 1
    },
    {
     "cell_type": "code",
     "collapsed": false,
     "input": [
      "s.start()\n",
      "wav = SquareTable()\n",
      "env = CosTable([(0,0), (100,1), (500,.3), (8191,0)])\n",
      "met = Metro(.250, 12).play()\n",
      "amp = TrigEnv(met, table=env, mul=.1)\n",
      "pit = TrigXnoiseMidi(met, dist='loopseg', x1=20, scale=1, mrange=(48,84))\n",
      "out = Osc(table=wav, freq=pit, mul=amp).out()\n",
      "s.gui(locals())"
     ],
     "language": "python",
     "metadata": {},
     "outputs": [],
     "prompt_number": 6
    },
    {
     "cell_type": "code",
     "collapsed": false,
     "input": [
      "s.stop()"
     ],
     "language": "python",
     "metadata": {},
     "outputs": [],
     "prompt_number": 7
    },
    {
     "cell_type": "markdown",
     "metadata": {},
     "source": [
      "By Andr\u00e9s Cabrera mantaraya36@gmail.com\n",
      "\n",
      "For course MAT 240A at UCSB\n",
      "\n",
      "This ipython notebook is licensed under the CC-BY-NC-SA license: http://creativecommons.org/licenses/by-nc-sa/4.0/\n",
      "\n",
      "![http://i.creativecommons.org/l/by-nc-sa/3.0/88x31.png](http://i.creativecommons.org/l/by-nc-sa/3.0/88x31.png)"
     ]
    }
   ],
   "metadata": {}
  }
 ]
}